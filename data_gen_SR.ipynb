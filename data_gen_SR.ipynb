{
 "cells": [
  {
   "cell_type": "markdown",
   "metadata": {},
   "source": [
    "## Here we create the data set for training SR module. "
   ]
  },
  {
   "cell_type": "markdown",
   "metadata": {},
   "source": [
    "#### Target:\n",
    "    - craete patches of 128 x 128 size. \n",
    "    - remove background \n",
    "    - define thrashold to select eligable patches for training. \n",
    "    "
   ]
  },
  {
   "cell_type": "code",
   "execution_count": 8,
   "metadata": {},
   "outputs": [],
   "source": [
    "import numpy as np\n",
    "import matplotlib.pyplot as plt \n",
    "from data_gen import create_folders_SR, create_patches_reduced_target, RawDataScaled\n",
    "from csbdeep.utils import plot_some\n",
    "import ipywidgets as widgets\n",
    "import os"
   ]
  },
  {
   "cell_type": "markdown",
   "metadata": {},
   "source": [
    "## Pass the data folder. \n",
    "-  stracture(F-Actins): \n",
    "    -    cell(0-55): \n",
    "            -  RawSIMData_gt.MRC , image: [C:9 x W:502 x H502  9 : target for Denoising and keeping the stracture\n",
    "            -  RawSIMData_level_(01-012).mrc , image :  [C:9 x W:502 x H:502] : make input patches for training\n",
    "            -  SIM_gt.mrc , image [C:1 x W:104 x H:104] : target data for Super resoulation Image Generation \n",
    "\n",
    "Image Axis: X/W: columns, Y/H: rows, Z: planes, C: channels, T: frames/time, (S: samples/images)"
   ]
  },
  {
   "cell_type": "code",
   "execution_count": 9,
   "metadata": {},
   "outputs": [],
   "source": [
    "root_dir = '../F-actin'\n",
    "create_folders_SR(root_dir, gt_filename=\"SIM_gt\",\n",
    "    raw_filename=\"RawSIMData_level_06\")"
   ]
  },
  {
   "cell_type": "code",
   "execution_count": 10,
   "metadata": {},
   "outputs": [
    {
     "name": "stdout",
     "output_type": "stream",
     "text": [
      "Number of files in Raw Folder: 51\n",
      "Number of files in GT Folder: 51\n"
     ]
    }
   ],
   "source": [
    "# define parameter for creating image patches\n",
    "scale_gt = 2.0\n",
    "patch_size = 256 \n",
    "n_patches_per_image = 50\n",
    "\n",
    "# create image patches for trainig . \n",
    "raw_data = RawDataScaled.from_folder (\n",
    "    basepath    = f'{root_dir}/Train/SR',\n",
    "    source_dirs = ['Raw'],\n",
    "    target_dir  = 'GT',\n",
    "    scale_gt = scale_gt,\n",
    "    axes        = 'ZYX' # z : channel , y : hight , x : width\n",
    "\n",
    ")\n",
    "\n",
    "# Use os.path.join for path concatenation to avoid errors\n",
    "raw_folder_path = os.path.join(root_dir, 'Train', 'SR', 'Raw')\n",
    "gt_folder_path = os.path.join(root_dir, 'Train', 'SR', 'GT')\n",
    "\n",
    "# Count files in Raw and GT folders\n",
    "files_Raw = os.listdir(raw_folder_path)\n",
    "print(f\"Number of files in Raw Folder: {len(files_Raw)}\")\n",
    "\n",
    "files_GT = os.listdir(gt_folder_path)\n",
    "print(f\"Number of files in GT Folder: {len(files_GT)}\")"
   ]
  },
  {
   "cell_type": "code",
   "execution_count": 11,
   "metadata": {},
   "outputs": [
    {
     "name": "stdout",
     "output_type": "stream",
     "text": [
      "==================================================================\n",
      "   51 raw images x    1 transformations   =    51 images\n",
      "   51 images     x   50 patches per image =  2550 patches in total\n",
      "==================================================================\n",
      "Input data:\n",
      "../F-actin/Train/SR: target='GT', sources=['Raw'], axes='ZYX', pattern='*.tif*'\n",
      "==================================================================\n",
      "Transformations:\n",
      "1 x Broadcast target image to the shape of source\n",
      "==================================================================\n",
      "128 x 128\n",
      "Patch size:\n",
      "9 x 128 x 128\n",
      "==================================================================\n"
     ]
    },
    {
     "name": "stderr",
     "output_type": "stream",
     "text": [
      "y:\\thesis\\data_gen.py:297: RuntimeWarning: overflow encountered in scalar multiply\n",
      "  n_required_memory_bytes = 2 * n_patches * np.prod(patch_size) * 4\n",
      "100%|██████████| 51/51 [08:33<00:00, 10.07s/it]\n"
     ]
    },
    {
     "name": "stdout",
     "output_type": "stream",
     "text": [
      "Saving data to ..\\F-actin\\Train\\SR\\microtubule_sr_training_data.npz.\n"
     ]
    }
   ],
   "source": [
    "X, Y, XY_axes = create_patches_reduced_target (\n",
    "    raw_data            = raw_data,\n",
    "    patch_size          = (None,patch_size,patch_size),\n",
    "    n_patches_per_image = n_patches_per_image,\n",
    "    target_axes         = 'YX',\n",
    "    reduction_axes      = 'Z',\n",
    "    scale_gt = scale_gt,\n",
    "    save_file           = f'{root_dir}/Train/SR/microtubule_sr_training_data.npz',\n",
    ")"
   ]
  },
  {
   "cell_type": "code",
   "execution_count": 13,
   "metadata": {},
   "outputs": [
    {
     "name": "stdout",
     "output_type": "stream",
     "text": [
      "shape of X   = (2550, 1, 9, 128, 128)\n",
      "shape of Y   = (2550, 1, 1, 256, 256)\n",
      "axes  of X,Y = SCZYX\n"
     ]
    }
   ],
   "source": [
    "print(\"shape of X   =\", X.shape) # Expected: X (Raw/inpout image: C:W:H :: 9:128:128)\n",
    "print(\"shape of Y   =\", Y.shape) # Expected: Y (GT/target image: C:W:H :: 1:256:256)\n",
    "print(\"axes  of X,Y =\", XY_axes) # gives us, how the image is stored in the array. Samples, channel(here only 1 as we watnt to have all the sample patches same targte, )"
   ]
  },
  {
   "cell_type": "markdown",
   "metadata": {},
   "source": [
    "##### Visualization of teh images"
   ]
  },
  {
   "cell_type": "code",
   "execution_count": 16,
   "metadata": {},
   "outputs": [
    {
     "data": {
      "text/plain": [
       "<Figure size 600x600 with 0 Axes>"
      ]
     },
     "metadata": {},
     "output_type": "display_data"
    },
    {
     "data": {
      "image/png": "[encoded data removed]",
      "text/plain": [
       "<Figure size 800x800 with 1 Axes>"
      ]
     },
     "metadata": {},
     "output_type": "display_data"
    },
    {
     "data": {
      "application/vnd.jupyter.widget-view+json": {
       "model_id": "9d04c13bdbdc47858c817570f49231ae",
       "version_major": 2,
       "version_minor": 0
      },
      "text/plain": [
       "interactive(children=(IntSlider(value=0, description='Index:', max=2549), Output()), _dom_classes=('widget-int…"
      ]
     },
     "metadata": {},
     "output_type": "display_data"
    }
   ],
   "source": [
    "def plot_patches_on_demand(X, Y):\n",
    "    def plot_patches(i):\n",
    "        plt.figure(figsize=(6, 6))\n",
    "        sl = slice(i,  (i + 1)), 0\n",
    "        plot_some(X[sl], Y[sl], title_list=[np.arange(sl[0].start, sl[0].stop)], cmap= 'viridis')\n",
    "        plt.show()\n",
    "\n",
    "    i_slider = widgets.IntSlider(value=0, min=0, max=X.shape[0] -1, description='Index:')\n",
    "    widgets.interact(plot_patches, i=i_slider)\n",
    "\n",
    "plot_patches_on_demand(X, Y)"
   ]
  },
  {
   "cell_type": "markdown",
   "metadata": {},
   "source": [
    "### Do the data augmentation\n",
    "-   6 augmented image + 1 original image. \n",
    "-   data increases 7 times"
   ]
  },
  {
   "cell_type": "code",
   "execution_count": null,
   "metadata": {},
   "outputs": [],
   "source": [
    "def viz_aug(X, Y):\n",
    "    fig, axes = plt.subplots(1, 2, figsize=(10, 5))\n",
    "    print(f'from visualizer : X {X.shape} {X.dtype}] : Y : {Y.shape} {Y.dtype} ')\n",
    "\n",
    "    axes[0].imshow(X[...,1], cmap='viridis')\n",
    "    axes[0].set_title('Augmented Image X')\n",
    "    axes[0].axis('off')\n",
    "\n",
    "    axes[1].imshow(Y, cmap='viridis')\n",
    "    axes[1].set_title('Augmented Image Y')\n",
    "    axes[1].axis('off')\n",
    "\n",
    "    plt.tight_layout()\n",
    "    plt.show()\n",
    "\n",
    "\n",
    "\n",
    "def npz_info(file):\n",
    "    npz_file = file\n",
    "\n",
    "    try:\n",
    "        data = np.load(npz_file)\n",
    "    except IOError as e:\n",
    "        print(f\"Error loading .npz file: {e}\")\n",
    "\n",
    "    print(data)\n",
    "    # Print the shape and dtype of each array in the .npz file\n",
    "    for key in data.keys():\n",
    "        print(f\"{key} shape: {data[key].shape}, dtype: {data[key].dtype}\")\n",
    "\n",
    "\n",
    "\n",
    "def apply_augmentations_and_save(npz_file):\n",
    "    try:\n",
    "        data = np.load(npz_file)\n",
    "    except IOError as e:\n",
    "        print(f\"Error loading .npz file: {e}\")\n",
    "        return\n",
    "    \n",
    "    if 'X' not in data or 'Y' not in data:\n",
    "        print(\"Error: .npz file does not contain 'X' or 'Y' keys.\")\n",
    "        return\n",
    "    #\n",
    "    X = data['X']\n",
    "    Y = data['Y']\n",
    "    \n",
    "    print(f\"X shape before processing: {X.shape} {X.dtype}, Y shape before processing: {Y.shape} {Y.dtype}\")\n",
    "\n",
    "    augmented_X = []\n",
    "    augmented_Y = []\n",
    "\n",
    "    for i in range(X.shape[0]):\n",
    "        ori_X = X[i, 0].transpose(1, 2, 0)\n",
    "        ori_Y = Y[i, 0].transpose(1, 2, 0)\n",
    "        print(f'checking original image shapes :ori_X {ori_X.shape} : ori_Y {ori_Y.shape}')\n",
    "        augmented_X.append(np.expand_dims(ori_X.transpose(2, 0, 1),axis=0))\n",
    "        augmented_Y.append(np.expand_dims(ori_Y.transpose(2, 0, 1),axis=0))\n",
    "\n",
    "        for aug_fn in augmentations:\n",
    "            print(f' augmentation input , X : {X[i, 0].transpose(1, 2, 0).shape} , Y : {Y[i, 0].transpose(1, 2, 0).shape}') # augmentation input , X : (128, 128, 9) , Y : (256, 256, 1)\n",
    "            aug_X, aug_Y = aug_fn(X[i, 0].transpose(1, 2, 0), Y[i, 0].transpose(1, 2, 0))\n",
    "            \n",
    "            # for vizualizing the augmentation\n",
    "            #viz_aug(aug_X, aug_Y)\n",
    "\n",
    "            print(f'augmentation outoput: aug_X : {aug_X.shape} aug_Y : {aug_Y.shape} ') # augmentation outoput: aug_X : (128, 128, 9) aug_Y : (256, 256, 1) \n",
    "            print(f'being added to the array :aug_X.transpose(2, 0, 1) {aug_X.transpose(2, 0, 1).shape} : aug_Y.transpose(2, 0, 1) {aug_Y.transpose(2, 0, 1).shape}') #being added to the array :aug_X.transpose(2, 0, 1) (9, 128, 128) : aug_Y.transpose(2, 0, 1) (1, 256, 256)\n",
    "            augmented_X.append(np.expand_dims(aug_X.transpose(2, 0, 1),axis=0))\n",
    "            augmented_Y.append(np.expand_dims(aug_Y.transpose(2, 0, 1),axis=0))\n",
    "\n",
    "    augmented_X = np.array(augmented_X)\n",
    "    augmented_Y = np.array(augmented_Y)\n",
    "    print(f'augmented_X : {augmented_X.shape} : augmented_Y:{augmented_Y.shape}') # augmented_X : (15300, 1, 9, 128, 128) : augmented_Y:(15300, 1, 1, 256, 256)\n",
    "    directory_path = os.path.join(*npz_file.split('/')[:-1]) + '/'\n",
    "\n",
    "\n",
    "\n",
    "    np.savez(directory_path + 'augmented_SR_Mictorubles.npz' X=augmented_X, Y=augmented_Y, axes=data['axes'])\n",
    "    print(f\"Augmented data saved to augmented_{npz_file}\")\n",
    "npz_file =  '../F-actin/Train/SR/microtubule_sr_training_data.npz'\n",
    "apply_augmentations_and_save(npz_file)\n"
   ]
  },
  {
   "cell_type": "markdown",
   "metadata": {},
   "source": [
    "### visualize the augmentation"
   ]
  },
  {
   "cell_type": "code",
   "execution_count": 2,
   "metadata": {},
   "outputs": [
    {
     "name": "stdout",
     "output_type": "stream",
     "text": [
      "..\\F-actin\\Train\\SR/\n"
     ]
    }
   ],
   "source": [
    "def visualize_XY_from_npz(npz_file, num_samples):\n",
    "    try:\n",
    "        data = np.load(npz_file)\n",
    "    except IOError as e:\n",
    "        print(f\"Error loading .npz file: {e}\")\n",
    "        return\n",
    "    \n",
    "    if 'X' not in data or 'Y' not in data:\n",
    "        print(\"Error: .npz file does not contain 'X' or 'Y' keys.\")\n",
    "        return\n",
    "    \n",
    "    X = data['X']\n",
    "    Y = data['Y']\n",
    "    \n",
    "    # Print shapes and data types for debugging\n",
    "    # print(f\"X shape before processing: {X.shape} {X.dtype}, Y shape before processing: {Y.shape} {Y.dtype}\")\n",
    "    # Example output: X shape before processing: (2550, 1, 9, 128, 128) float32, Y shape before processing: (2550, 1, 1, 256, 256) float32\n",
    "    \n",
    "    # Randomly select samples\n",
    "    indices = np.random.choice(X.shape[0], num_samples, replace=False)\n",
    "    X = X[indices]\n",
    "    Y = Y[indices]\n",
    "    \n",
    "    fig, axes = plt.subplots(num_samples, len(augmentations) + 1, figsize=(20, num_samples * 5))  # Adjust figure size as needed\n",
    "    \n",
    "    for i in range(num_samples):\n",
    "        X_img = X[i, 0, 0]  # First channel of X\n",
    "        Y_img = Y[i, 0, 0]  # First channel of Y\n",
    "        \n",
    "        # Display original images\n",
    "        axes[i, 0].imshow(X_img, cmap='viridis')\n",
    "        axes[i, 0].set_title('Original Image X', fontsize=10)\n",
    "        axes[i, 0].axis('off')\n",
    "\n",
    "        axes[i, 1].imshow(Y_img, cmap='viridis')\n",
    "        axes[i, 1].set_title('Original Image Y', fontsize=10)\n",
    "        axes[i, 1].axis('off')\n",
    "        \n",
    "        # Apply augmentations and display\n",
    "        for j, (aug_name, aug_fn) in enumerate(augmentations):\n",
    "            aug_X, aug_Y = aug_fn(X_img, Y_img)\n",
    "            \n",
    "            axes[i, j + 2].imshow(aug_X, cmap='viridis')\n",
    "            axes[i, j + 2].set_title(f'{aug_name} Image X', fontsize=8)\n",
    "            axes[i, j + 2].axis('off')\n",
    "\n",
    "            axes[i, j + 3].imshow(aug_Y, cmap='viridis')\n",
    "            axes[i, j + 3].set_title(f'{aug_name} Image Y', fontsize=8)\n",
    "            axes[i, j + 3].axis('off')\n",
    "        \n",
    "    plt.tight_layout()\n",
    "    plt.show()\n",
    "\n",
    "# Example usage\n",
    "npz_file = r'y:\\F-actin\\Train\\SR\\microtubule_sr_training_data.npz'  # Replace with your .npz file path\n",
    "visualize_XY_from_npz( r'y:\\F-actin\\Train\\SR\\augmented_SR_Mictorubles.npz', 4)\n"
   ]
  }
 ],
 "metadata": {
  "kernelspec": {
   "display_name": "thesis",
   "language": "python",
   "name": "python3"
  },
  "language_info": {
   "codemirror_mode": {
    "name": "ipython",
    "version": 3
   },
   "file_extension": ".py",
   "mimetype": "text/x-python",
   "name": "python",
   "nbconvert_exporter": "python",
   "pygments_lexer": "ipython3",
   "version": "3.10.13"
  }
 },
 "nbformat": 4,
 "nbformat_minor": 2
}
